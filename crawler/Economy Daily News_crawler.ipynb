{
 "cells": [
  {
   "cell_type": "code",
   "execution_count": null,
   "metadata": {},
   "outputs": [],
   "source": [
    "#經濟日報\n",
    "\n",
    "from bs4 import BeautifulSoup\n",
    "import requests\n",
    "import re as r\n",
    "import pandas as pd\n",
    "\n",
    "def eco(x): 不論要應用在大盤預測或是個股搜索都可以，若要預測大盤，則x輸入\"大盤\" 和其他權值股。\n",
    "    eco_address_list = []\n",
    "    eco_time_list = []\n",
    "    eco_title_list = []\n",
    "    for w in range(1,3): #先爬出搜尋2330的所有新聞網址 (先假設爬五頁)\n",
    "        url_eco = \"https://money.udn.com/search/result/1001/\"+x+\"/\"+str(w)\n",
    "\n",
    "        headers = {'user-agent': \"Mozilla/5.0 (Windows NT 10.0; Win64; x64) AppleWebKit/537.36 (KHTML, like Gecko) Chrome/87.0.4280.88 Safari/537.36\",\n",
    "                \"cookie\":'_ga=GA1.2.927708406.1601618986; _fbp=fb.1.1601618985824.706528271; _ss_pp_id=b3c8335fbeb19f9adaf1601590188761; dable_uid=53822174.1601061552644; __dtsu=4C30160291899678DF25A79BB792ADBD; truvid_protected={\"val\":\"c\",\"level\":2,\"geo\":\"TW\",\"timestamp\":1605071289}; __auc=04d5a0b6175f83e7d1a75f55ca6; __erEvntUid=noset; __eruid=d8400cdf-4c38-c641-a4d9-87f2d35c2f8a; _fbc=fb.1.1606187751623.IwAR32rqYXY1HwRAL_qIat0HFknrbrsfzraHTaRIhOYM6tqU0r5y3hnMNNWi4; __BWfp=c1606187759520x1a75e6b90; _gid=GA1.2.630643660.1607095760; __gads=ID=56b9d1fd37dbdf4b:T=1607095770:S=ALNI_MZoFn8UvghJvOmXcQR4TUlpiIJPOg; _gliaplayer_user_info={%22city%22:%22shibuya%20city%22%2C%22uid%22:%22a96b4d50-0182-11eb-9ff0-0fb12ecbca9d%22%2C%22country%22:%22TW%22%2C%22region%22:%2213%22%2C%22source%22:%22CF%22%2C%22latlong%22:%2235.661971%2C139.703795%22%2C%22ip%22:%2261.58.108.239%22}; meter_expires=Fri, 11 Dec 2020 17:55:35 GMT; ucfunnel_uid=ad86a035-a317-3d62-8366-fb6443c6f307; __retuid=1a903bd2-775a-d99b-c37a-65052f36a210; csrf_cookie_name=afd2db682c0216bd0166ddd5f541e09b; __asc=2d7132f217631ad0c388694c5f4; gliaplayer_ssid=8c31cab0-36c6-11eb-8837-29e472ee0491; meter_articleIds={\"5066965\":1,\"5068548\":1}; meter_day_read_pages={\"20201205\":2}; meter_limit_day7=2; meter_limit_day1=2; meter_1=2; meter_7=2; _td=f7597bf8-e560-44e6-b888-c97d831c391a; __retfs=fSes-866ff7c9-b611-95f-11d2; __lastv=0'}\n",
    "\n",
    "        re = requests.get(url = url_eco, headers = headers )\n",
    "\n",
    "        soup_address = BeautifulSoup(re.text,\"html.parser\") \n",
    "    #     eco_address = soup_address.find_all(href=r.compile(\"https://money.udn.com/money/story\"))\n",
    "        eco_title = soup_address.find(\"div\",id=\"search_content\")\n",
    "        eco_title = str(eco_title)\n",
    "        soup_title = BeautifulSoup(eco_title,\"html.parser\")\n",
    "        eco_address = soup_title.find_all(\"a\")\n",
    "        eco_title1 = soup_title.find_all(\"h3\")\n",
    "\n",
    "        for n in eco_title1:\n",
    "            eco_title_list.append(n.text)\n",
    "        for i in eco_address:\n",
    "            eco_address_list.append(i[\"href\"])\n",
    "\n",
    "    for x in eco_address_list:  #根據列表中的網址爬取標題\n",
    "        re = requests.get(url = x, headers = headers )\n",
    "        soup_time = BeautifulSoup(re.text,\"html.parser\")\n",
    "        soup_time1 = soup_time.find(\"div\",{\"class\":\"shareBar__info\"})\n",
    "        soup_time2 = soup_time1.text[:17].replace(\"\\n\",\"\")\n",
    "\n",
    "        soup_time3 = datetime.datetime.strptime(soup_time2,'%Y-%m-%d %H:%M')\n",
    "        eco_time_list.append(soup_time3)"
   ]
  }
 ],
 "metadata": {
  "kernelspec": {
   "display_name": "Python 3",
   "language": "python",
   "name": "python3"
  },
  "language_info": {
   "codemirror_mode": {
    "name": "ipython",
    "version": 3
   },
   "file_extension": ".py",
   "mimetype": "text/x-python",
   "name": "python",
   "nbconvert_exporter": "python",
   "pygments_lexer": "ipython3",
   "version": "3.8.5"
  }
 },
 "nbformat": 4,
 "nbformat_minor": 4
}
