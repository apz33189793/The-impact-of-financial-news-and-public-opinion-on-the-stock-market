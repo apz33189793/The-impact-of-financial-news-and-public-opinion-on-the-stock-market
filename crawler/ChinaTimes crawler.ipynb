{
 "cells": [
  {
   "cell_type": "code",
   "execution_count": 5,
   "metadata": {},
   "outputs": [
    {
     "name": "stdout",
     "output_type": "stream",
     "text": [
      "[datetime.datetime(2021, 2, 17, 17, 40), datetime.datetime(2021, 2, 17, 17, 39), datetime.datetime(2021, 2, 17, 17, 23), datetime.datetime(2021, 2, 17, 16, 49), datetime.datetime(2021, 2, 17, 16, 31), datetime.datetime(2021, 2, 17, 16, 31), datetime.datetime(2021, 2, 17, 16, 14), datetime.datetime(2021, 2, 17, 16, 14), datetime.datetime(2021, 2, 17, 15, 58), datetime.datetime(2021, 2, 17, 15, 58), datetime.datetime(2021, 2, 17, 15, 58), datetime.datetime(2021, 2, 17, 15, 57), datetime.datetime(2021, 2, 17, 15, 41), datetime.datetime(2021, 2, 17, 15, 41), datetime.datetime(2021, 2, 17, 15, 40), datetime.datetime(2021, 2, 17, 15, 23), datetime.datetime(2021, 2, 17, 15, 23), datetime.datetime(2021, 2, 17, 14, 49), datetime.datetime(2021, 2, 17, 14, 32), datetime.datetime(2021, 2, 17, 14, 15), datetime.datetime(2021, 2, 17, 17, 40), datetime.datetime(2021, 2, 17, 17, 39), datetime.datetime(2021, 2, 17, 17, 23), datetime.datetime(2021, 2, 17, 16, 49), datetime.datetime(2021, 2, 17, 16, 31), datetime.datetime(2021, 2, 17, 16, 31), datetime.datetime(2021, 2, 17, 16, 14), datetime.datetime(2021, 2, 17, 16, 14), datetime.datetime(2021, 2, 17, 15, 58), datetime.datetime(2021, 2, 17, 15, 58), datetime.datetime(2021, 2, 17, 15, 58), datetime.datetime(2021, 2, 17, 15, 57), datetime.datetime(2021, 2, 17, 15, 41), datetime.datetime(2021, 2, 17, 15, 41), datetime.datetime(2021, 2, 17, 15, 40), datetime.datetime(2021, 2, 17, 15, 23), datetime.datetime(2021, 2, 17, 15, 23), datetime.datetime(2021, 2, 17, 14, 49), datetime.datetime(2021, 2, 17, 14, 32), datetime.datetime(2021, 2, 17, 14, 15), datetime.datetime(2021, 2, 17, 14, 15), datetime.datetime(2021, 2, 17, 13, 59), datetime.datetime(2021, 2, 17, 13, 58), datetime.datetime(2021, 2, 17, 13, 58), datetime.datetime(2021, 2, 17, 13, 41), datetime.datetime(2021, 2, 17, 13, 24), datetime.datetime(2021, 2, 17, 13, 7), datetime.datetime(2021, 2, 17, 12, 50), datetime.datetime(2021, 2, 17, 12, 50), datetime.datetime(2021, 2, 17, 12, 34), datetime.datetime(2021, 2, 17, 12, 33), datetime.datetime(2021, 2, 17, 12, 33), datetime.datetime(2021, 2, 17, 12, 33), datetime.datetime(2021, 2, 17, 12, 33), datetime.datetime(2021, 2, 17, 12, 16), datetime.datetime(2021, 2, 17, 12, 16), datetime.datetime(2021, 2, 17, 11, 59), datetime.datetime(2021, 2, 17, 11, 59), datetime.datetime(2021, 2, 17, 11, 42), datetime.datetime(2021, 2, 17, 11, 42), datetime.datetime(2021, 2, 17, 17, 40), datetime.datetime(2021, 2, 17, 17, 39), datetime.datetime(2021, 2, 17, 17, 23), datetime.datetime(2021, 2, 17, 16, 49), datetime.datetime(2021, 2, 17, 16, 31), datetime.datetime(2021, 2, 17, 16, 31), datetime.datetime(2021, 2, 17, 16, 14), datetime.datetime(2021, 2, 17, 16, 14), datetime.datetime(2021, 2, 17, 15, 58), datetime.datetime(2021, 2, 17, 15, 58), datetime.datetime(2021, 2, 17, 15, 58), datetime.datetime(2021, 2, 17, 15, 57), datetime.datetime(2021, 2, 17, 15, 41), datetime.datetime(2021, 2, 17, 15, 41), datetime.datetime(2021, 2, 17, 15, 40), datetime.datetime(2021, 2, 17, 15, 23), datetime.datetime(2021, 2, 17, 15, 23), datetime.datetime(2021, 2, 17, 14, 49), datetime.datetime(2021, 2, 17, 14, 32), datetime.datetime(2021, 2, 17, 14, 15), datetime.datetime(2021, 2, 17, 14, 15), datetime.datetime(2021, 2, 17, 13, 59), datetime.datetime(2021, 2, 17, 13, 58), datetime.datetime(2021, 2, 17, 13, 58), datetime.datetime(2021, 2, 17, 13, 41), datetime.datetime(2021, 2, 17, 13, 24), datetime.datetime(2021, 2, 17, 13, 7), datetime.datetime(2021, 2, 17, 12, 50), datetime.datetime(2021, 2, 17, 12, 50), datetime.datetime(2021, 2, 17, 12, 34), datetime.datetime(2021, 2, 17, 12, 33), datetime.datetime(2021, 2, 17, 12, 33), datetime.datetime(2021, 2, 17, 12, 33), datetime.datetime(2021, 2, 17, 12, 33), datetime.datetime(2021, 2, 17, 12, 16), datetime.datetime(2021, 2, 17, 12, 16), datetime.datetime(2021, 2, 17, 11, 59), datetime.datetime(2021, 2, 17, 11, 59), datetime.datetime(2021, 2, 17, 11, 42), datetime.datetime(2021, 2, 17, 11, 42), datetime.datetime(2021, 2, 17, 11, 42), datetime.datetime(2021, 2, 17, 11, 25), datetime.datetime(2021, 2, 17, 11, 9), datetime.datetime(2021, 2, 17, 11, 9), datetime.datetime(2021, 2, 17, 11, 8), datetime.datetime(2021, 2, 17, 10, 51), datetime.datetime(2021, 2, 17, 10, 34), datetime.datetime(2021, 2, 17, 10, 34), datetime.datetime(2021, 2, 17, 10, 34), datetime.datetime(2021, 2, 17, 10, 34), datetime.datetime(2021, 2, 17, 10, 34), datetime.datetime(2021, 2, 17, 10, 17), datetime.datetime(2021, 2, 17, 10, 1), datetime.datetime(2021, 2, 17, 10, 1), datetime.datetime(2021, 2, 17, 10, 1), datetime.datetime(2021, 2, 17, 10, 0), datetime.datetime(2021, 2, 17, 9, 26), datetime.datetime(2021, 2, 17, 9, 10), datetime.datetime(2021, 2, 17, 9, 10), datetime.datetime(2021, 2, 17, 9, 10), datetime.datetime(2021, 2, 17, 17, 40), datetime.datetime(2021, 2, 17, 17, 39), datetime.datetime(2021, 2, 17, 17, 23), datetime.datetime(2021, 2, 17, 16, 49), datetime.datetime(2021, 2, 17, 16, 31), datetime.datetime(2021, 2, 17, 16, 31), datetime.datetime(2021, 2, 17, 16, 14), datetime.datetime(2021, 2, 17, 16, 14), datetime.datetime(2021, 2, 17, 15, 58), datetime.datetime(2021, 2, 17, 15, 58), datetime.datetime(2021, 2, 17, 15, 58), datetime.datetime(2021, 2, 17, 15, 57), datetime.datetime(2021, 2, 17, 15, 41), datetime.datetime(2021, 2, 17, 15, 41), datetime.datetime(2021, 2, 17, 15, 40), datetime.datetime(2021, 2, 17, 15, 23), datetime.datetime(2021, 2, 17, 15, 23), datetime.datetime(2021, 2, 17, 14, 49), datetime.datetime(2021, 2, 17, 14, 32), datetime.datetime(2021, 2, 17, 14, 15), datetime.datetime(2021, 2, 17, 14, 15), datetime.datetime(2021, 2, 17, 13, 59), datetime.datetime(2021, 2, 17, 13, 58), datetime.datetime(2021, 2, 17, 13, 58), datetime.datetime(2021, 2, 17, 13, 41), datetime.datetime(2021, 2, 17, 13, 24), datetime.datetime(2021, 2, 17, 13, 7), datetime.datetime(2021, 2, 17, 12, 50), datetime.datetime(2021, 2, 17, 12, 50), datetime.datetime(2021, 2, 17, 12, 34), datetime.datetime(2021, 2, 17, 12, 33), datetime.datetime(2021, 2, 17, 12, 33), datetime.datetime(2021, 2, 17, 12, 33), datetime.datetime(2021, 2, 17, 12, 33), datetime.datetime(2021, 2, 17, 12, 16), datetime.datetime(2021, 2, 17, 12, 16), datetime.datetime(2021, 2, 17, 11, 59), datetime.datetime(2021, 2, 17, 11, 59), datetime.datetime(2021, 2, 17, 11, 42), datetime.datetime(2021, 2, 17, 11, 42), datetime.datetime(2021, 2, 17, 11, 42), datetime.datetime(2021, 2, 17, 11, 25), datetime.datetime(2021, 2, 17, 11, 9), datetime.datetime(2021, 2, 17, 11, 9), datetime.datetime(2021, 2, 17, 11, 8), datetime.datetime(2021, 2, 17, 10, 51), datetime.datetime(2021, 2, 17, 10, 34), datetime.datetime(2021, 2, 17, 10, 34), datetime.datetime(2021, 2, 17, 10, 34), datetime.datetime(2021, 2, 17, 10, 34), datetime.datetime(2021, 2, 17, 10, 34), datetime.datetime(2021, 2, 17, 10, 17), datetime.datetime(2021, 2, 17, 10, 1), datetime.datetime(2021, 2, 17, 10, 1), datetime.datetime(2021, 2, 17, 10, 1), datetime.datetime(2021, 2, 17, 10, 0), datetime.datetime(2021, 2, 17, 9, 26), datetime.datetime(2021, 2, 17, 9, 10), datetime.datetime(2021, 2, 17, 9, 10), datetime.datetime(2021, 2, 17, 9, 10), datetime.datetime(2021, 2, 17, 9, 10), datetime.datetime(2021, 2, 17, 9, 10), datetime.datetime(2021, 2, 17, 8, 53), datetime.datetime(2021, 2, 17, 7, 45), datetime.datetime(2021, 2, 17, 7, 45), datetime.datetime(2021, 2, 17, 7, 45), datetime.datetime(2021, 2, 17, 4, 10), datetime.datetime(2021, 2, 17, 4, 10), datetime.datetime(2021, 2, 17, 4, 10), datetime.datetime(2021, 2, 17, 4, 10), datetime.datetime(2021, 2, 17, 4, 10), datetime.datetime(2021, 2, 17, 4, 10), datetime.datetime(2021, 2, 17, 4, 10), datetime.datetime(2021, 2, 17, 4, 10), datetime.datetime(2021, 2, 17, 4, 10), datetime.datetime(2021, 2, 17, 4, 10), datetime.datetime(2021, 2, 17, 4, 10), datetime.datetime(2021, 2, 17, 4, 10), datetime.datetime(2021, 2, 17, 4, 10), datetime.datetime(2021, 2, 16, 4, 10)]\n"
     ]
    }
   ],
   "source": [
    "#中時爬蟲\n",
    "from bs4 import BeautifulSoup  #===>中時新聞只能應用在加權指數預測、因為他沒有個股新聞只有大盤\n",
    "import requests\n",
    "import datetime\n",
    "cn_title_list = []\n",
    "cn_time_list = []\n",
    "cn_address_list = []\n",
    "final_list = []\n",
    "for w in range(1,5):\n",
    "    page_address = \"https://www.chinatimes.com/money/securities?page=\"+str(w)\n",
    "    cnews_url=page_address                       #根據for迴圈建構要爬的網址\n",
    "    re = requests.post(url=cnews_url) #呼叫 煮湯流程\n",
    "    soup = BeautifulSoup(re.text,\"html.parser\") #煮湯流程\n",
    "    cnews_adress = soup.find_all('h3',{'class':'title'})   #煮湯流程       #建構list方便儲存每個新聞的網址\n",
    "    for i in cnews_adress:\n",
    "        i1 = \"https://www.chinatimes.com\"+i.a[\"href\"] #i1代表每一個新聞的網址 \n",
    "        cn_address_list.append(i1) #放入列表\n",
    "    for i in cnews_adress:\n",
    "        text = i.text\n",
    "        if text[0] ==\"《\":\n",
    "            cn_title_list.append(text[text.index(\"》\")+1:])\n",
    "        else:\n",
    "            cn_title_list.append(i.text)\n",
    "\n",
    "    for x in cn_address_list: #針對每頁中的個別新聞爬取內文\n",
    "        cnews_url=x #x=個別新聞的網址\n",
    "        re = requests.post(url=cnews_url)#煮湯流程\n",
    "        soup = BeautifulSoup(re.text,\"html.parser\") #煮湯流程\n",
    "        cnews_content_time = soup.find('time')#煮湯流程\n",
    "        time_content = cnews_content_time['datetime']\n",
    "        time_content_final = datetime.datetime.strptime(time_content,'%Y-%m-%d %H:%M')\n",
    "        cn_time_list.append(time_content_final)"
   ]
  },
  {
   "cell_type": "code",
   "execution_count": null,
   "metadata": {},
   "outputs": [],
   "source": []
  }
 ],
 "metadata": {
  "kernelspec": {
   "display_name": "Python 3",
   "language": "python",
   "name": "python3"
  },
  "language_info": {
   "codemirror_mode": {
    "name": "ipython",
    "version": 3
   },
   "file_extension": ".py",
   "mimetype": "text/x-python",
   "name": "python",
   "nbconvert_exporter": "python",
   "pygments_lexer": "ipython3",
   "version": "3.8.5"
  }
 },
 "nbformat": 4,
 "nbformat_minor": 4
}
