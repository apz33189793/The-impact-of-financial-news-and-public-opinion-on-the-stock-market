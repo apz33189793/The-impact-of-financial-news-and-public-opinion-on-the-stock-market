{
 "cells": [
  {
   "cell_type": "code",
   "execution_count": null,
   "metadata": {},
   "outputs": [],
   "source": [
    "\n",
    "#Yahoo爬蟲===>yahoo沒有大盤新聞專頁、因此只能用權值股預測大盤，x輸入權值股即可，另外yahoo可以應用於個股查詢功能。\n",
    "\n",
    "from bs4 import BeautifulSoup\n",
    "import requests\n",
    "import datetime\n",
    "\n",
    "def yahoo(x): \n",
    "        yahoo_title_list= []\n",
    "        yahoo_time_list = []\n",
    "        yahoo_address_list = []\n",
    "        final_list = []\n",
    "\n",
    "        for w in range(1,3): \n",
    "            url_yahoo = \"https://tw.stock.yahoo.com/q/h?s=\"+x+\"&pg=\"+ str(w) #str(s)代表搜尋欄位 str(w)代表頁數\n",
    "            re = requests.get(url = url_yahoo)\n",
    "            soup_address = BeautifulSoup(re.text,\"html.parser\") \n",
    "            yahoo_address = soup_address.find_all(\"td\",{\"height\":\"37\"})\n",
    "\n",
    "            for i in yahoo_address:\n",
    "                text = i.text\n",
    "                if text[0] ==\"《\":\n",
    "                    yahoo_title_list.append(text[text.index(\"》\")+1:])\n",
    "                else:            \n",
    "                    yahoo_title_list.append(i.text)\n",
    "                \n",
    "\n",
    "\n",
    "            for i in yahoo_address:\n",
    "                k = \"https://tw.stock.yahoo.com/\"+i.a[\"href\"]\n",
    "                yahoo_address_list.append(k) #第w頁的所有標題網址\n",
    "\n",
    "        for x in yahoo_address_list:  #第w頁第i個標題網址\n",
    "            re = requests.get(url =x)\n",
    "            soup_content = BeautifulSoup(re.text,\"html.parser\")\n",
    "            yahoo_time = soup_content.find(\"time\",{\"class\":\"caas-attr-meta-time\"})  #上傳時間\n",
    "            yahoo_time = str(yahoo_time[\"datetime\"]).replace(\"T\", \" \").replace(\".000Z\", \"\")\n",
    "            # debug\n",
    "            if yahoo_time == None:\n",
    "                continue\n",
    "            # \n",
    "            yahoo_time = datetime.datetime.strptime(yahoo_time, \"%Y-%m-%d %H:%M:%S\")+datetime.timedelta(hours = 8)\n",
    "            yahoo_time_list.append(yahoo_time)"
   ]
  }
 ],
 "metadata": {
  "kernelspec": {
   "display_name": "Python 3",
   "language": "python",
   "name": "python3"
  },
  "language_info": {
   "codemirror_mode": {
    "name": "ipython",
    "version": 3
   },
   "file_extension": ".py",
   "mimetype": "text/x-python",
   "name": "python",
   "nbconvert_exporter": "python",
   "pygments_lexer": "ipython3",
   "version": "3.8.5"
  }
 },
 "nbformat": 4,
 "nbformat_minor": 4
}
